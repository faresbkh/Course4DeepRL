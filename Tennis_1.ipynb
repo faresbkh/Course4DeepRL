{
 "cells": [
  {
   "cell_type": "markdown",
   "metadata": {},
   "source": [
    "# Collaboration and Competition\n",
    "\n",
    "---\n",
    "\n",
    "In this notebook, you will learn how to use the Unity ML-Agents environment for the third project of the [Deep Reinforcement Learning Nanodegree](https://www.udacity.com/course/deep-reinforcement-learning-nanodegree--nd893) program.\n",
    "\n",
    "### 1. Start the Environment\n",
    "\n",
    "We begin by importing the necessary packages.  If the code cell below returns an error, please revisit the project instructions to double-check that you have installed [Unity ML-Agents](https://github.com/Unity-Technologies/ml-agents/blob/master/docs/Installation.md) and [NumPy](http://www.numpy.org/)."
   ]
  },
  {
   "cell_type": "code",
   "execution_count": 1,
   "metadata": {},
   "outputs": [
    {
     "data": {
      "text/plain": [
       "True"
      ]
     },
     "execution_count": 1,
     "metadata": {},
     "output_type": "execute_result"
    }
   ],
   "source": [
    "from unityagents import UnityEnvironment\n",
    "import random\n",
    "import numpy as np\n",
    "import copy\n",
    "from collections import namedtuple, deque\n",
    "import random\n",
    "import torch\n",
    "import torch.nn.functional as F\n",
    "import torch.nn as nn\n",
    "import torch.optim as optim\n",
    "import matplotlib.pyplot as plt\n",
    "device = torch.device(\"cuda:0\" if torch.cuda.is_available() else \"cpu\")\n",
    "torch.cuda.is_available()"
   ]
  },
  {
   "cell_type": "markdown",
   "metadata": {},
   "source": [
    "Next, we will start the environment!  **_Before running the code cell below_**, change the `file_name` parameter to match the location of the Unity environment that you downloaded.\n",
    "\n",
    "- **Mac**: `\"path/to/Tennis.app\"`\n",
    "- **Windows** (x86): `\"path/to/Tennis_Windows_x86/Tennis.exe\"`\n",
    "- **Windows** (x86_64): `\"path/to/Tennis_Windows_x86_64/Tennis.exe\"`\n",
    "- **Linux** (x86): `\"path/to/Tennis_Linux/Tennis.x86\"`\n",
    "- **Linux** (x86_64): `\"path/to/Tennis_Linux/Tennis.x86_64\"`\n",
    "- **Linux** (x86, headless): `\"path/to/Tennis_Linux_NoVis/Tennis.x86\"`\n",
    "- **Linux** (x86_64, headless): `\"path/to/Tennis_Linux_NoVis/Tennis.x86_64\"`\n",
    "\n",
    "For instance, if you are using a Mac, then you downloaded `Tennis.app`.  If this file is in the same folder as the notebook, then the line below should appear as follows:\n",
    "```\n",
    "env = UnityEnvironment(file_name=\"Tennis.app\")\n",
    "```"
   ]
  },
  {
   "cell_type": "code",
   "execution_count": 2,
   "metadata": {},
   "outputs": [
    {
     "name": "stderr",
     "output_type": "stream",
     "text": [
      "INFO:unityagents:\n",
      "'Academy' started successfully!\n",
      "Unity Academy name: Academy\n",
      "        Number of Brains: 1\n",
      "        Number of External Brains : 1\n",
      "        Lesson number : 0\n",
      "        Reset Parameters :\n",
      "\t\t\n",
      "Unity brain name: TennisBrain\n",
      "        Number of Visual Observations (per agent): 0\n",
      "        Vector Observation space type: continuous\n",
      "        Vector Observation space size (per agent): 8\n",
      "        Number of stacked Vector Observation: 3\n",
      "        Vector Action space type: continuous\n",
      "        Vector Action space size (per agent): 2\n",
      "        Vector Action descriptions: , \n"
     ]
    }
   ],
   "source": [
    "env = UnityEnvironment(file_name=\"Tennis_Windows_x86_64\\Tennis.exe\")"
   ]
  },
  {
   "cell_type": "markdown",
   "metadata": {},
   "source": [
    "Environments contain **_brains_** which are responsible for deciding the actions of their associated agents. Here we check for the first brain available, and set it as the default brain we will be controlling from Python."
   ]
  },
  {
   "cell_type": "code",
   "execution_count": 3,
   "metadata": {},
   "outputs": [],
   "source": [
    "# get the default brain\n",
    "brain_name = env.brain_names[0]\n",
    "brain = env.brains[brain_name]"
   ]
  },
  {
   "cell_type": "markdown",
   "metadata": {},
   "source": [
    "### 2. Examine the State and Action Spaces\n",
    "\n",
    "In this environment, two agents control rackets to bounce a ball over a net. If an agent hits the ball over the net, it receives a reward of +0.1.  If an agent lets a ball hit the ground or hits the ball out of bounds, it receives a reward of -0.01.  Thus, the goal of each agent is to keep the ball in play.\n",
    "\n",
    "The observation space consists of 8 variables corresponding to the position and velocity of the ball and racket. Two continuous actions are available, corresponding to movement toward (or away from) the net, and jumping. \n",
    "\n",
    "Run the code cell below to print some information about the environment."
   ]
  },
  {
   "cell_type": "code",
   "execution_count": 4,
   "metadata": {},
   "outputs": [
    {
     "name": "stdout",
     "output_type": "stream",
     "text": [
      "Number of agents: 2\n",
      "Size of each action: 2\n",
      "There are 2 agents. Each observes a state with length: 24\n",
      "The state for the first agent looks like: [ 0.          0.          0.          0.          0.          0.\n",
      "  0.          0.          0.          0.          0.          0.\n",
      "  0.          0.          0.          0.         -6.65278625 -1.5\n",
      " -0.          0.          6.83172083  6.         -0.          0.        ]\n"
     ]
    },
    {
     "data": {
      "text/plain": [
       "(2, 24)"
      ]
     },
     "execution_count": 4,
     "metadata": {},
     "output_type": "execute_result"
    }
   ],
   "source": [
    "# reset the environment\n",
    "env_info = env.reset(train_mode=True)[brain_name]\n",
    "\n",
    "# number of agents \n",
    "num_agents = len(env_info.agents)\n",
    "print('Number of agents:', num_agents)\n",
    "\n",
    "# size of each action\n",
    "action_size = brain.vector_action_space_size\n",
    "print('Size of each action:', action_size)\n",
    "\n",
    "# examine the state space \n",
    "states = env_info.vector_observations\n",
    "state_size = states.shape[1]\n",
    "print('There are {} agents. Each observes a state with length: {}'.format(states.shape[0], state_size))\n",
    "print('The state for the first agent looks like:', states[0])\n",
    "states.shape"
   ]
  },
  {
   "cell_type": "code",
   "execution_count": 5,
   "metadata": {},
   "outputs": [
    {
     "data": {
      "text/plain": [
       "2"
      ]
     },
     "execution_count": 5,
     "metadata": {},
     "output_type": "execute_result"
    }
   ],
   "source": [
    "brain.vector_action_space_size"
   ]
  },
  {
   "attachments": {},
   "cell_type": "markdown",
   "metadata": {},
   "source": [
    "### 3. Define Model Actor and Critic"
   ]
  },
  {
   "cell_type": "code",
   "execution_count": 6,
   "metadata": {},
   "outputs": [],
   "source": [
    "def hidden_init(layer):\n",
    "    fan_in = layer.weight.data.size()[0]\n",
    "    lim = 1. / np.sqrt(fan_in)\n",
    "    return (-lim, lim)\n",
    "\n",
    "class Actor(nn.Module):\n",
    "    \"\"\"Actor (Policy) Model.\"\"\"\n",
    "\n",
    "    def __init__(self, state_size, action_size, seed, fc1_units=256, fc2_units=128):\n",
    "        \"\"\"Initialize parameters and build model.\n",
    "        Params\n",
    "        ======\n",
    "            state_size (int): Dimension of each state\n",
    "            action_size (int): Dimension of each action\n",
    "            seed (int): Random seed\n",
    "            fc1_units (int): Number of nodes in first hidden layer\n",
    "            fc2_units (int): Number of nodes in second hidden layer\n",
    "        \"\"\"\n",
    "        super(Actor, self).__init__()\n",
    "        self.state_size = state_size\n",
    "        self.bn = nn.BatchNorm1d(state_size)\n",
    "        self.seed = torch.manual_seed(seed)\n",
    "        self.fc1 = nn.Linear(state_size, fc1_units)\n",
    "        self.bn1 =nn.BatchNorm1d(fc1_units)\n",
    "        self.dr1 = nn.Dropout(0.2)\n",
    "        self.fc2 = nn.Linear(fc1_units, fc2_units)\n",
    "        self.bn2 =nn.BatchNorm1d(fc2_units)\n",
    "        self.dr2 = nn.Dropout(0.2)\n",
    "        self.fc3 = nn.Linear(fc2_units, action_size)\n",
    "        self.reset_parameters()\n",
    "\n",
    "    def reset_parameters(self):\n",
    "        self.fc1.weight.data.uniform_(*hidden_init(self.fc1))\n",
    "        self.fc2.weight.data.uniform_(*hidden_init(self.fc2))\n",
    "        self.fc3.weight.data.uniform_(-3e-3, 3e-3)\n",
    "\n",
    "    def forward(self, state):\n",
    "        \"\"\"Build an actor (policy) network that maps states -> actions.\"\"\"\n",
    "        if len(state) == self.state_size:\n",
    "            state= state.unsqueeze(0)\n",
    "        #state = self.bn(state)\n",
    "        x = F.relu(self.fc1(state))\n",
    "        #x= self.bn1(x)\n",
    "        x= self.dr1(x)\n",
    "        x = F.relu(self.fc2(x))\n",
    "        #x=self.bn2(x)\n",
    "        #x= self.dr2(x)\n",
    "        return torch.tanh(self.fc3(x))\n",
    "\n",
    "\n",
    "class Critic(nn.Module):\n",
    "    \"\"\"Critic (Value) Model.\"\"\"\n",
    "\n",
    "    def __init__(self, state_size, action_size, seed, fcs1_units=512, fc2_units=256,fc3_units=128):\n",
    "        \"\"\"Initialize parameters and build model.\n",
    "        Params\n",
    "        ======\n",
    "            state_size (int): Dimension of each state\n",
    "            action_size (int): Dimension of each action\n",
    "            seed (int): Random seed\n",
    "            fcs1_units (int): Number of nodes in the first hidden layer\n",
    "            fc2_units (int): Number of nodes in the second hidden layer\n",
    "        \"\"\"\n",
    "        super(Critic, self).__init__()\n",
    "        self.seed = torch.manual_seed(seed)\n",
    "        self.bn = nn.BatchNorm1d(state_size)\n",
    "        self.fcs1 = nn.Linear(state_size, fcs1_units)\n",
    "        self.bn1 =nn.BatchNorm1d(fcs1_units)\n",
    "        self.dr1 = nn.Dropout(0.2)\n",
    "        self.fc2 = nn.Linear(fcs1_units+action_size+state_size, fc2_units)\n",
    "        self.dr2 = nn.Dropout(0.2)\n",
    "        self.bn2 =nn.BatchNorm1d(fc2_units)\n",
    "        self.fc3 = nn.Linear(fc2_units+action_size+state_size, fc3_units)\n",
    "        self.dr3 = nn.Dropout(0.2)\n",
    "        self.fc4 = nn.Linear(fc3_units, 1)\n",
    "        self.reset_parameters()\n",
    "\n",
    "    def reset_parameters(self):\n",
    "        self.fcs1.weight.data.uniform_(*hidden_init(self.fcs1))\n",
    "        self.fc2.weight.data.uniform_(*hidden_init(self.fc2))\n",
    "        self.fc3.weight.data.uniform_(*hidden_init(self.fc3))\n",
    "        self.fc4.weight.data.uniform_(-3e-3, 3e-3)\n",
    "\n",
    "    def forward(self, state, action):\n",
    "        \"\"\"Build a critic (value) network that maps (state, action) pairs -> Q-values.\"\"\"\n",
    "        #state = self.bn(state)\n",
    "        xs = F.relu(self.fcs1(state))\n",
    "        #xs = self.dr1(xs)\n",
    "        #xs =self.bn1(xs)\n",
    "        x = torch.cat((xs, action,state), dim=1)\n",
    "        #x= self.dr2(x)\n",
    "        \n",
    "        x = F.relu(self.fc2(x))\n",
    "        x =self.bn2(x)\n",
    "        x = torch.cat((x,action,state),dim=1)\n",
    "        #x= self.dr3(x)\n",
    "        x = F.relu(self.fc3(x))\n",
    "        #x = torch.cat((x,action),dim=1)\n",
    "        return torch.tanh(self.fc4(x))\n"
   ]
  },
  {
   "attachments": {},
   "cell_type": "markdown",
   "metadata": {},
   "source": [
    "### 4. Define Agent and hyperparameters"
   ]
  },
  {
   "cell_type": "code",
   "execution_count": 7,
   "metadata": {},
   "outputs": [],
   "source": [
    "BUFFER_SIZE = int(1e6)  # replay buffer size\n",
    "BATCH_SIZE = 128        # minibatch size\n",
    "GAMMA = 0.99            # discount factor\n",
    "TAU = 1e-3              # for soft update of target parameters\n",
    "LR_ACTOR = 1e-4         # learning rate of the actor \n",
    "LR_CRITIC = 1e-3        # learning rate of the critic\n",
    "#WEIGHT_DECAY = 0.0001        # L2 weight decay\n",
    "WEIGHT_DECAY = 0        # L2 weight decay\n",
    "device = torch.device(\"cuda:0\" if torch.cuda.is_available() else \"cpu\")\n",
    "class Agent():\n",
    "    def __init__(self, state_size, action_size,  random_seed):\n",
    "        \"\"\"Initialize an Agent object.\n",
    "\n",
    "        Params\n",
    "        ======\n",
    "            state_size (int): dimension of each state\n",
    "            action_size (int): dimension of each action\n",
    "            n_agents: number of agents it will control in the environment\n",
    "            seed (int): random seed\n",
    "        \"\"\"\n",
    "        self.state_size = state_size\n",
    "        self.action_size = action_size\n",
    "        self.seed = np.random.seed(random_seed)\n",
    "\n",
    "        # Actor Network (w/ Target Network)\n",
    "        self.actor_local = Actor(state_size, action_size,  seed=random_seed).to(device)\n",
    "        self.actor_target = Actor(state_size, action_size,  seed=random_seed).to(device)\n",
    "        self.actor_optimizer = optim.Adam(self.actor_local.parameters(), lr=LR_ACTOR)\n",
    "\n",
    "        # Critic Network (w/ Target Network)\n",
    "        self.critic_local = Critic(state_size, action_size, seed=random_seed).to(device)\n",
    "        self.critic_target = Critic(state_size, action_size,  seed=random_seed).to(device)\n",
    "        self.critic_optimizer = optim.Adam(self.critic_local.parameters(), lr=LR_CRITIC,weight_decay=WEIGHT_DECAY)\n",
    "        # self.critic_optimizer = optim.Adam(self.critic_local.parameters(), lr=LR_CRITIC, weight_decay=WEIGHT_DECAY)\n",
    "\n",
    "        # Noise process\n",
    "        self.noise = OUNoise(action_size, random_seed)\n",
    "\n",
    "        # Replay memory\n",
    "        self.memory = ReplayBuffer(action_size, BUFFER_SIZE, BATCH_SIZE, random_seed)\n",
    "        self.current_step = 0 \n",
    "\n",
    "    def step(self, states, actions, rewards, next_states, dones):\n",
    "        \"\"\"Save experience in replay memory, and use random sample from buffer to learn.\"\"\"\n",
    "        self.current_step+=1\n",
    "        for i in range (len(states)):\n",
    "            self.memory.add(states[i], actions[i], rewards[i], next_states[i], dones[i])\n",
    "\n",
    "        # Learn, if enough samples are available in memory\n",
    "        if len(self.memory) > BATCH_SIZE:\n",
    "            experiences = self.memory.sample()\n",
    "            self.learn(experiences, GAMMA)\n",
    "\n",
    "    def act(self, states, add_noise=False):\n",
    "        \"\"\"Returns actions for given state as per current policy.\"\"\"\n",
    "        states = torch.from_numpy(states).float().to(device)\n",
    "        self.actor_local.eval()\n",
    "        actions = np.zeros((num_agents, self.action_size))\n",
    "        with torch.no_grad():\n",
    "            for i,state in enumerate(states):\n",
    "                actions[i]=self.actor_local(state).cpu().data.numpy()\n",
    "        self.actor_local.train()\n",
    "        if add_noise:\n",
    "            actions += [self.noise.sample() for _ in range(num_agents)]\n",
    "        return actions\n",
    "\n",
    "    def reset(self):\n",
    "        self.noise.reset()\n",
    "\n",
    "    def learn(self, experiences, gamma):\n",
    "        \"\"\"Update policy and value parameters using given batch of experience tuples.\n",
    "        Q_targets = r + γ * critic_target(next_state, actor_target(next_state))\n",
    "        where:\n",
    "            actor_target(state) -> action\n",
    "            critic_target(state, action) -> Q-value\n",
    "\n",
    "        Params\n",
    "        ======\n",
    "            experiences (Tuple[torch.Tensor]): tuple of (s, a, r, s', done) tuples \n",
    "            gamma (float): discount factor\n",
    "        \"\"\"\n",
    "        states, actions, rewards, next_states, dones = experiences\n",
    "\n",
    "        # ---------------------------- update critic ---------------------------- #\n",
    "        # Get predicted next-state actions and Q values from target models\n",
    "        actions_next = self.actor_target(next_states)\n",
    "        Q_targets_next = self.critic_target(next_states, actions_next)\n",
    "        # Compute Q targets for current states (y_i)\n",
    "        Q_targets = rewards + (gamma * Q_targets_next * (1 - dones))\n",
    "        # Compute critic loss\n",
    "        Q_expected = self.critic_local(states, actions)\n",
    "        critic_loss = F.mse_loss(Q_expected, Q_targets)\n",
    "        # Minimize the loss\n",
    "        self.critic_optimizer.zero_grad()\n",
    "        critic_loss.backward()\n",
    "        self.critic_optimizer.step()\n",
    "\n",
    "        # ---------------------------- update actor ---------------------------- #\n",
    "        # Compute actor loss\n",
    "        actions_pred = self.actor_local(states)\n",
    "        actor_loss = -self.critic_local(states, actions_pred).mean()\n",
    "        # Minimize the loss\n",
    "        self.actor_optimizer.zero_grad()\n",
    "        actor_loss.backward()\n",
    "        self.actor_optimizer.step()\n",
    "\n",
    "        # ----------------------- update target networks ----------------------- #\n",
    "        self.soft_update(self.critic_local, self.critic_target, TAU)\n",
    "        self.soft_update(self.actor_local, self.actor_target, TAU)\n",
    "\n",
    "    def soft_update(self, local_model, target_model, tau):\n",
    "        \"\"\"Soft update model parameters.\n",
    "        θ_target = τ*θ_local + (1 - τ)*θ_target\n",
    "        Params\n",
    "        ======\n",
    "            local_model: PyTorch model (weights will be copied from)\n",
    "            target_model: PyTorch model (weights will be copied to)\n",
    "            tau (float): interpolation parameter\n",
    "        \"\"\"\n",
    "        for target_param, local_param in zip(target_model.parameters(), local_model.parameters()):\n",
    "            target_param.data.copy_(tau*local_param.data + (1.0-tau)*target_param.data)\n",
    "\n",
    "    @property\n",
    "    def device(self):\n",
    "        return device\n",
    "\n",
    "class OUNoise:\n",
    "    \"\"\"Ornstein-Uhlenbeck process.\"\"\"\n",
    "\n",
    "    def __init__(self, size, seed, mu=0., theta=0.15, sigma=0.2):\n",
    "        \"\"\"Initialize parameters and noise process.\"\"\"\n",
    "        self.mu = mu * np.ones(size)\n",
    "        self.theta = theta\n",
    "        self.sigma = sigma\n",
    "        self.seed = np.random.seed(seed)\n",
    "        random.seed(seed)\n",
    "        self.reset()\n",
    "\n",
    "    def reset(self):\n",
    "        \"\"\"Reset the internal state (= noise) to mean (mu).\"\"\"\n",
    "        self.state = copy.copy(self.mu)\n",
    "\n",
    "    def sample(self):\n",
    "        \"\"\"Update internal state and return it as a noise sample.\"\"\"\n",
    "        x = self.state\n",
    "        dx = self.theta * (self.mu - x) + self.sigma * np.array([np.random.random() for i in range(len(x))])\n",
    "        self.state = x + dx\n",
    "        return self.state\n",
    "\n",
    "class ReplayBuffer:\n",
    "    \"\"\"Fixed-size buffer to store experience tuples.\"\"\"\n",
    "\n",
    "    def __init__(self, action_size, buffer_size, batch_size, seed):\n",
    "        \"\"\"Initialize a ReplayBuffer object.\n",
    "        Params\n",
    "        ======\n",
    "            buffer_size (int): maximum size of buffer\n",
    "            batch_size (int): size of each training batch\n",
    "        \"\"\"\n",
    "        self.action_size = action_size\n",
    "        self.memory = deque(maxlen=buffer_size)  # internal memory (deque)\n",
    "        self.batch_size = batch_size\n",
    "        self.experience = namedtuple(\"Experience\", field_names=[\"state\", \"action\", \"reward\", \"next_state\", \"done\"])\n",
    "        self.seed = np.random.seed(seed)\n",
    "\n",
    "    def add(self, state, action, reward, next_state, done):\n",
    "        \"\"\"Add a new experience to memory.\"\"\"\n",
    "        e = self.experience(state, action, reward, next_state, done)\n",
    "        self.memory.append(e)\n",
    "\n",
    "    def sample(self):\n",
    "        \"\"\"Randomly sample a batch of experiences from memory.\"\"\"\n",
    "        experiences = random.sample(self.memory, k=self.batch_size)\n",
    "        states = torch.from_numpy(np.vstack([e.state for e in experiences if e is not None])).float().to(device)\n",
    "        actions = torch.from_numpy(np.vstack([e.action for e in experiences if e is not None])).float().to(device)\n",
    "        rewards = torch.from_numpy(np.vstack([e.reward for e in experiences if e is not None])).float().to(device)\n",
    "        next_states = torch.from_numpy(np.vstack([e.next_state for e in experiences if e is not None])).float().to(device)\n",
    "        dones = torch.from_numpy(np.vstack([e.done for e in experiences if e is not None]).astype(np.uint8)).float().to(device)\n",
    "\n",
    "        return (states, actions, rewards, next_states, dones)\n",
    "\n",
    "    def __len__(self):\n",
    "        \"\"\"Return the current size of internal memory.\"\"\"\n",
    "        return len(self.memory)"
   ]
  },
  {
   "attachments": {},
   "cell_type": "markdown",
   "metadata": {},
   "source": [
    "### 5. Initialise Agent"
   ]
  },
  {
   "cell_type": "code",
   "execution_count": 8,
   "metadata": {},
   "outputs": [],
   "source": [
    "seed=0\n",
    "agent = Agent(state_size=state_size, action_size=action_size,random_seed=seed)"
   ]
  },
  {
   "attachments": {},
   "cell_type": "markdown",
   "metadata": {},
   "source": [
    "### 6. Define algorithm"
   ]
  },
  {
   "cell_type": "code",
   "execution_count": 9,
   "metadata": {},
   "outputs": [],
   "source": [
    "def maddpg( max_t = 1000, window_size=100, score_threshold=1, \n",
    "         print_interval=100, epochs=5000):\n",
    "\n",
    "    scores_deque = deque(maxlen=window_size) \n",
    "    local_scores_deque = deque(maxlen=window_size//2)\n",
    "    scores = []\n",
    "    prev_average_score = 0        \n",
    "    print(\"Training on {} started...\".format(agent.device))\n",
    "    for i_episode in range(1, epochs+1):\n",
    "        env_info = env.reset(train_mode=True)[brain_name]\n",
    "        states = env_info.vector_observations\n",
    "        agent.reset()\n",
    "        episode_scores = np.zeros(num_agents) \n",
    "        for t in range(max_t):\n",
    "            actions = agent.act(states)\n",
    "            env_info = env.step(actions)[brain_name]\n",
    "            next_states = env_info.vector_observations\n",
    "            rewards = env_info.rewards\n",
    "            dones = env_info.local_done\n",
    "\n",
    "            agent.step(states=states, actions=actions, rewards=[reward*10 if reward <0 else reward  for reward in rewards], next_states=next_states, dones=dones)\n",
    "            episode_scores += np.array(rewards)\n",
    "            states = next_states\n",
    "            if np.any(dones):\n",
    "                break\n",
    "            #score = np.max(episode_score)\n",
    "\n",
    "        episode_score = np.max(episode_scores) # Summary of scores for this episode\n",
    "        scores_deque.append(episode_score)\n",
    "        local_scores_deque.append(episode_score)\n",
    "        scores.append(episode_score)\n",
    "        average_score = np.mean(scores_deque)\n",
    "        max_local_score= np.mean(local_scores_deque)\n",
    "\n",
    "        if i_episode % (print_interval//2) == 0:\n",
    "            print('\\rEpisode: {}\\tAverage Score: {:.3f}\\tlocal average Score: {:.3f}\\tCurrent Score: {:.3f}\\tScores : {:.3f} {:.3f}'.format(i_episode, average_score,max_local_score, episode_score , *episode_scores))\n",
    "        #if i_episode % print_interval == 0:\n",
    "        #    print('\\rEpisode: {}\\tAverage Score: {:.3f}\\tlocal average Score: {:.3f}\\tCurrent Score: {:.3f}'.format(i_episode, average_score,max_local_score, episode_score))\n",
    "        if average_score>prev_average_score+5:\n",
    "            torch.save(agent.actor_local.state_dict(), 'checkpoint_actor_1.pth')\n",
    "            torch.save(agent.critic_local.state_dict(), 'checkpoint_critic_1.pth')\n",
    "        if average_score >= score_threshold:\n",
    "            print('\\nEnvironment solved in {} episodes!\\tAverage Score: {:.3f}'.format(i_episode-window_size, average_score))\n",
    "            torch.save(agent.actor_local.state_dict(), 'checkpoint_actor_1.pth')\n",
    "            torch.save(agent.critic_local.state_dict(), 'checkpoint_critic_1.pth')\n",
    "            break\n",
    "    np.save('scores_1.npy', scores)\n",
    "    return scores"
   ]
  },
  {
   "attachments": {},
   "cell_type": "markdown",
   "metadata": {},
   "source": [
    "#### Run training"
   ]
  },
  {
   "cell_type": "code",
   "execution_count": 10,
   "metadata": {},
   "outputs": [
    {
     "name": "stdout",
     "output_type": "stream",
     "text": [
      "Training on cuda:0 started...\n",
      "Episode: 50\tAverage Score: 0.002\tlocal average Score: 0.002\tCurrent Score: 0.000\tScores : -0.010 0.000\n",
      "Episode: 100\tAverage Score: 0.001\tlocal average Score: 0.000\tCurrent Score: 0.000\tScores : 0.000 -0.010\n",
      "Episode: 150\tAverage Score: 0.000\tlocal average Score: 0.000\tCurrent Score: 0.000\tScores : 0.000 -0.010\n",
      "Episode: 200\tAverage Score: 0.002\tlocal average Score: 0.004\tCurrent Score: 0.000\tScores : -0.010 0.000\n",
      "Episode: 250\tAverage Score: 0.002\tlocal average Score: 0.000\tCurrent Score: 0.000\tScores : 0.000 -0.010\n",
      "Episode: 300\tAverage Score: 0.000\tlocal average Score: 0.000\tCurrent Score: 0.000\tScores : 0.000 -0.010\n",
      "Episode: 350\tAverage Score: 0.000\tlocal average Score: 0.000\tCurrent Score: 0.000\tScores : 0.000 -0.010\n",
      "Episode: 400\tAverage Score: 0.000\tlocal average Score: 0.000\tCurrent Score: 0.000\tScores : -0.010 0.000\n",
      "Episode: 450\tAverage Score: 0.000\tlocal average Score: 0.000\tCurrent Score: 0.000\tScores : -0.010 0.000\n",
      "Episode: 500\tAverage Score: 0.000\tlocal average Score: 0.000\tCurrent Score: 0.000\tScores : 0.000 -0.010\n",
      "Episode: 550\tAverage Score: 0.000\tlocal average Score: 0.000\tCurrent Score: 0.000\tScores : -0.010 0.000\n",
      "Episode: 600\tAverage Score: 0.008\tlocal average Score: 0.015\tCurrent Score: 0.100\tScores : 0.100 -0.010\n",
      "Episode: 650\tAverage Score: 0.026\tlocal average Score: 0.036\tCurrent Score: 0.000\tScores : -0.010 0.000\n",
      "Episode: 700\tAverage Score: 0.053\tlocal average Score: 0.070\tCurrent Score: 0.090\tScores : 0.000 0.090\n",
      "Episode: 750\tAverage Score: 0.082\tlocal average Score: 0.094\tCurrent Score: 0.000\tScores : -0.010 0.000\n",
      "Episode: 800\tAverage Score: 0.107\tlocal average Score: 0.120\tCurrent Score: 0.000\tScores : -0.010 0.000\n",
      "Episode: 850\tAverage Score: 0.325\tlocal average Score: 0.529\tCurrent Score: 0.100\tScores : -0.010 0.100\n",
      "Episode: 900\tAverage Score: 0.456\tlocal average Score: 0.383\tCurrent Score: 0.100\tScores : 0.100 -0.010\n",
      "Episode: 950\tAverage Score: 0.413\tlocal average Score: 0.444\tCurrent Score: 0.100\tScores : -0.010 0.100\n",
      "Episode: 1000\tAverage Score: 0.405\tlocal average Score: 0.367\tCurrent Score: 0.300\tScores : 0.300 0.190\n",
      "Episode: 1050\tAverage Score: 0.419\tlocal average Score: 0.471\tCurrent Score: 0.300\tScores : 0.300 0.290\n",
      "Episode: 1100\tAverage Score: 0.579\tlocal average Score: 0.687\tCurrent Score: 0.390\tScores : 0.300 0.390\n",
      "Episode: 1150\tAverage Score: 0.584\tlocal average Score: 0.481\tCurrent Score: 0.200\tScores : 0.200 0.090\n",
      "Episode: 1200\tAverage Score: 0.719\tlocal average Score: 0.957\tCurrent Score: 0.400\tScores : 0.390 0.400\n",
      "Episode: 1250\tAverage Score: 0.754\tlocal average Score: 0.550\tCurrent Score: 0.100\tScores : 0.100 0.090\n",
      "Episode: 1300\tAverage Score: 0.409\tlocal average Score: 0.268\tCurrent Score: 0.290\tScores : 0.200 0.290\n",
      "Episode: 1350\tAverage Score: 0.245\tlocal average Score: 0.222\tCurrent Score: 0.090\tScores : 0.000 0.090\n",
      "Episode: 1400\tAverage Score: 0.251\tlocal average Score: 0.279\tCurrent Score: 0.200\tScores : 0.200 0.090\n",
      "Episode: 1450\tAverage Score: 0.342\tlocal average Score: 0.406\tCurrent Score: 0.090\tScores : 0.000 0.090\n",
      "Episode: 1500\tAverage Score: 0.362\tlocal average Score: 0.319\tCurrent Score: 0.200\tScores : 0.200 0.190\n",
      "Episode: 1550\tAverage Score: 0.294\tlocal average Score: 0.270\tCurrent Score: 0.200\tScores : 0.200 0.090\n",
      "Episode: 1600\tAverage Score: 0.260\tlocal average Score: 0.251\tCurrent Score: 1.000\tScores : 1.000 0.990\n",
      "Episode: 1650\tAverage Score: 0.266\tlocal average Score: 0.281\tCurrent Score: 0.100\tScores : 0.090 0.100\n",
      "Episode: 1700\tAverage Score: 0.366\tlocal average Score: 0.451\tCurrent Score: 0.100\tScores : 0.090 0.100\n",
      "Episode: 1750\tAverage Score: 0.323\tlocal average Score: 0.195\tCurrent Score: 0.100\tScores : 0.100 0.090\n",
      "Episode: 1800\tAverage Score: 0.220\tlocal average Score: 0.244\tCurrent Score: 0.900\tScores : 0.900 0.790\n",
      "Episode: 1850\tAverage Score: 0.295\tlocal average Score: 0.345\tCurrent Score: 0.400\tScores : 0.390 0.400\n",
      "Episode: 1900\tAverage Score: 0.363\tlocal average Score: 0.381\tCurrent Score: 0.300\tScores : 0.300 0.190\n",
      "Episode: 1950\tAverage Score: 0.354\tlocal average Score: 0.327\tCurrent Score: 0.100\tScores : -0.010 0.100\n",
      "Episode: 2000\tAverage Score: 0.476\tlocal average Score: 0.625\tCurrent Score: 0.200\tScores : 0.190 0.200\n",
      "Episode: 2050\tAverage Score: 0.567\tlocal average Score: 0.508\tCurrent Score: 1.200\tScores : 1.200 1.090\n",
      "Episode: 2100\tAverage Score: 0.503\tlocal average Score: 0.497\tCurrent Score: 0.100\tScores : -0.010 0.100\n",
      "Episode: 2150\tAverage Score: 0.384\tlocal average Score: 0.272\tCurrent Score: 0.100\tScores : 0.100 -0.010\n",
      "Episode: 2200\tAverage Score: 0.449\tlocal average Score: 0.627\tCurrent Score: 1.500\tScores : 1.490 1.500\n",
      "Episode: 2250\tAverage Score: 0.402\tlocal average Score: 0.178\tCurrent Score: 0.100\tScores : -0.010 0.100\n",
      "Episode: 2300\tAverage Score: 0.218\tlocal average Score: 0.258\tCurrent Score: 0.400\tScores : 0.400 0.290\n",
      "Episode: 2350\tAverage Score: 0.354\tlocal average Score: 0.450\tCurrent Score: 0.890\tScores : 0.800 0.890\n",
      "Episode: 2400\tAverage Score: 0.483\tlocal average Score: 0.515\tCurrent Score: 0.200\tScores : 0.090 0.200\n",
      "Episode: 2450\tAverage Score: 0.409\tlocal average Score: 0.303\tCurrent Score: 0.100\tScores : 0.100 -0.010\n",
      "Episode: 2500\tAverage Score: 0.366\tlocal average Score: 0.428\tCurrent Score: 0.100\tScores : 0.100 -0.010\n",
      "Episode: 2550\tAverage Score: 0.523\tlocal average Score: 0.618\tCurrent Score: 0.100\tScores : 0.100 0.090\n",
      "Episode: 2600\tAverage Score: 0.598\tlocal average Score: 0.577\tCurrent Score: 1.000\tScores : 1.000 0.990\n",
      "Episode: 2650\tAverage Score: 0.426\tlocal average Score: 0.275\tCurrent Score: 0.100\tScores : 0.100 -0.010\n",
      "Episode: 2700\tAverage Score: 0.323\tlocal average Score: 0.371\tCurrent Score: 0.000\tScores : 0.000 -0.010\n",
      "Episode: 2750\tAverage Score: 0.408\tlocal average Score: 0.445\tCurrent Score: 0.200\tScores : 0.200 0.090\n",
      "Episode: 2800\tAverage Score: 0.396\tlocal average Score: 0.347\tCurrent Score: 0.100\tScores : 0.090 0.100\n",
      "Episode: 2850\tAverage Score: 0.357\tlocal average Score: 0.368\tCurrent Score: 1.000\tScores : 1.000 0.890\n",
      "Episode: 2900\tAverage Score: 0.403\tlocal average Score: 0.439\tCurrent Score: 0.200\tScores : 0.200 0.090\n",
      "Episode: 2950\tAverage Score: 0.359\tlocal average Score: 0.278\tCurrent Score: 0.000\tScores : 0.000 -0.010\n",
      "Episode: 3000\tAverage Score: 0.253\tlocal average Score: 0.228\tCurrent Score: 0.700\tScores : 0.700 0.690\n",
      "Episode: 3050\tAverage Score: 0.321\tlocal average Score: 0.413\tCurrent Score: 0.200\tScores : 0.200 0.190\n",
      "Episode: 3100\tAverage Score: 0.354\tlocal average Score: 0.295\tCurrent Score: 0.000\tScores : -0.010 0.000\n",
      "Episode: 3150\tAverage Score: 0.247\tlocal average Score: 0.198\tCurrent Score: 0.100\tScores : 0.090 0.100\n",
      "Episode: 3200\tAverage Score: 0.188\tlocal average Score: 0.178\tCurrent Score: 0.200\tScores : 0.200 0.090\n",
      "Episode: 3250\tAverage Score: 0.225\tlocal average Score: 0.273\tCurrent Score: 0.100\tScores : 0.100 -0.010\n",
      "Episode: 3300\tAverage Score: 0.271\tlocal average Score: 0.269\tCurrent Score: 0.900\tScores : 0.900 0.690\n",
      "Episode: 3350\tAverage Score: 0.296\tlocal average Score: 0.323\tCurrent Score: 1.490\tScores : 1.400 1.490\n",
      "Episode: 3400\tAverage Score: 0.390\tlocal average Score: 0.457\tCurrent Score: 0.700\tScores : 0.690 0.700\n",
      "Episode: 3450\tAverage Score: 0.388\tlocal average Score: 0.320\tCurrent Score: 0.100\tScores : 0.100 0.090\n",
      "Episode: 3500\tAverage Score: 0.522\tlocal average Score: 0.725\tCurrent Score: 1.190\tScores : 1.190 1.100\n",
      "Episode: 3550\tAverage Score: 0.658\tlocal average Score: 0.591\tCurrent Score: 0.800\tScores : 0.800 0.790\n",
      "Episode: 3600\tAverage Score: 0.685\tlocal average Score: 0.779\tCurrent Score: 0.290\tScores : 0.200 0.290\n",
      "Episode: 3650\tAverage Score: 0.636\tlocal average Score: 0.493\tCurrent Score: 0.800\tScores : 0.800 0.790\n",
      "Episode: 3700\tAverage Score: 0.763\tlocal average Score: 1.033\tCurrent Score: 2.700\tScores : 2.600 2.700\n",
      "\n",
      "Environment solved in 3614 episodes!\tAverage Score: 1.011\n"
     ]
    }
   ],
   "source": [
    "scores = maddpg()"
   ]
  },
  {
   "attachments": {},
   "cell_type": "markdown",
   "metadata": {},
   "source": [
    "### 7. Plot results"
   ]
  },
  {
   "cell_type": "code",
   "execution_count": 11,
   "metadata": {},
   "outputs": [
    {
     "data": {
      "image/png": "[encoded data removed]",
      "text/plain": [
       "<Figure size 432x288 with 1 Axes>"
      ]
     },
     "metadata": {
      "needs_background": "light"
     },
     "output_type": "display_data"
    }
   ],
   "source": [
    "f = plt.figure()\n",
    "ax = f.add_subplot(111)\n",
    "plt.plot(range(1, len(scores) + 1), scores)\n",
    "plt.xlabel('# Episodes')\n",
    "plt.ylabel('Scores')\n",
    "plt.savefig('scores_plot_1_score.png')\n",
    "plt.show()"
   ]
  },
  {
   "attachments": {},
   "cell_type": "markdown",
   "metadata": {},
   "source": [
    "### 7. Run Inference mode"
   ]
  },
  {
   "cell_type": "code",
   "execution_count": 12,
   "metadata": {},
   "outputs": [
    {
     "data": {
      "text/plain": [
       "<All keys matched successfully>"
      ]
     },
     "execution_count": 12,
     "metadata": {},
     "output_type": "execute_result"
    }
   ],
   "source": [
    "agent = Agent(state_size=state_size, action_size=action_size,random_seed=0)\n",
    "agent.actor_local.load_state_dict(torch.load('checkpoint_actor_1.pth'))\n",
    "agent.critic_local.load_state_dict(torch.load('checkpoint_critic_1.pth'))"
   ]
  },
  {
   "cell_type": "code",
   "execution_count": 13,
   "metadata": {},
   "outputs": [
    {
     "name": "stdout",
     "output_type": "stream",
     "text": [
      "Score: 2.650000039488077\n"
     ]
    }
   ],
   "source": [
    "env_info = env.reset(train_mode=False)[brain_name]     # reset the environment    \n",
    "states = env_info.vector_observations                  # get the current state (for each agent)\n",
    "scores = np.zeros(num_agents)                          # initialize the score (for each agent)\n",
    "step = 0\n",
    "while step<1000:\n",
    "    step+=1\n",
    "    actions = agent.act(states)                      # select an action\n",
    "    env_info = env.step(actions)[brain_name]\n",
    "    next_states = env_info.vector_observations\n",
    "    rewards = env_info.rewards\n",
    "    dones = env_info.local_done\n",
    "    rewards = env_info.rewards                   # get the reward\n",
    "    done = env_info.local_done                  # see if episode has finished\n",
    "    scores += rewards                                # update the score\n",
    "    states = next_states                             # roll over the state to next time step\n",
    "    if np.any(dones):\n",
    "        break\n",
    "    \n",
    "print(\"Score: {}\".format(np.mean(scores)))"
   ]
  },
  {
   "cell_type": "code",
   "execution_count": 14,
   "metadata": {},
   "outputs": [],
   "source": [
    "env.close()"
   ]
  },
  {
   "cell_type": "code",
   "execution_count": null,
   "metadata": {},
   "outputs": [],
   "source": []
  }
 ],
 "metadata": {
  "kernelspec": {
   "display_name": "drlnd",
   "language": "python",
   "name": "python3"
  },
  "language_info": {
   "codemirror_mode": {
    "name": "ipython",
    "version": 3
   },
   "file_extension": ".py",
   "mimetype": "text/x-python",
   "name": "python",
   "nbconvert_exporter": "python",
   "pygments_lexer": "ipython3",
   "version": "3.6.13"
  },
  "vscode": {
   "interpreter": {
    "hash": "39e381cf46b1f55053a25401b9ec0a7bf444799a815663fc9f4e7190e64d6089"
   }
  }
 },
 "nbformat": 4,
 "nbformat_minor": 2
}
